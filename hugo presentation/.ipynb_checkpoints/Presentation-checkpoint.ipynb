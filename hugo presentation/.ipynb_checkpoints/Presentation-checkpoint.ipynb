{
 "cells": [
  {
   "cell_type": "markdown",
   "metadata": {
    "collapsed": true,
    "slideshow": {
     "slide_type": "slide"
    }
   },
   "source": [
    "<h1><center>Machine Learning for Inductive Programming</center></h1>\n",
    "<br/>\n",
    "<br/>\n",
    "![](banner.png)\n",
    "<br/>\n",
    "<h3><center>By Stuart Reid</center></h3>\n",
    "<h3><center>Chief Engineer @ NMRQL Research</center></h3>"
   ]
  },
  {
   "cell_type": "markdown",
   "metadata": {
    "slideshow": {
     "slide_type": "slide"
    }
   },
   "source": [
    "## Programming paradigms\n",
    "\n",
    "Programming is a process which takes us from a formulation of some computing problem to a computer program which can solve that problem and which is executable (can run on a computer). A programming paradigm is simply a _way_ of programming.\n",
    "\n",
    "There are many of ways which we can program including,\n",
    "\n",
    "1. Imperative programming\n",
    "2. Procedural programming\n",
    "3. Object Oriented programming\n",
    "4. Functional programming, \n",
    "5. Inductive programming\n",
    "\n",
    "Each paradigm has its benefits and drawbacks."
   ]
  },
  {
   "cell_type": "markdown",
   "metadata": {
    "slideshow": {
     "slide_type": "subslide"
    }
   },
   "source": [
    "### Imperative Programming\n",
    "\n",
    "is a way of programming which works by changing the state of a computer using statements. The benefit of imperative programming is that all of your code exists in one (usually massive) program and can be understood sequentially. The downside is that repetative operations in the program cannot be easily reused across different locations."
   ]
  },
  {
   "cell_type": "markdown",
   "metadata": {
    "slideshow": {
     "slide_type": "subslide"
    }
   },
   "source": [
    "### Procedural programming\n",
    "\n",
    "is a way of programming with works by changing the state of a computer using defined sequences of statements (smaller imperative programs) called \"procedures\". The benefit of procedural programming is that these procedures called multiple times which allows for code reuse. The drawback is that it is hard to control the state of your computer."
   ]
  },
  {
   "cell_type": "markdown",
   "metadata": {
    "slideshow": {
     "slide_type": "subslide"
    }
   },
   "source": [
    "### Object Oriented programming\n",
    "\n",
    "is a way of programming which works by creating objects which contain code and state and expose specific methods for controlling the state of that object. \n",
    "\n",
    "Object oriented programming also introduces the concepts of inheritance, encapsulation, and polymorphism. Inheritance allows objects to 'be' other objects. Encapsulation allows objects to 'have' other objects. Polymorphism allows objects to 'redefine' the code / behaviour of other objects from which they inherit very easily."
   ]
  },
  {
   "cell_type": "markdown",
   "metadata": {
    "slideshow": {
     "slide_type": "subslide"
    }
   },
   "source": [
    "### Functional programming\n",
    "\n",
    "is a way of programming which treats all computation as the evaluation of functions (similar to mathematical functions). The benefit of functional programming is that it is _stateless_ and therefore considerably easier to verify. The drawback is that it is usually quite difficult to build large scale systems with functional programming."
   ]
  },
  {
   "cell_type": "markdown",
   "metadata": {
    "slideshow": {
     "slide_type": "subslide"
    }
   },
   "source": [
    "### Inductive programming\n",
    "\n",
    "A drawback to all of the above programming paradigms is that you as the developer somehow need to _work out_ what the code required to a perform a task is. This is especially difficult to do if the problem you are trying to solve is  stochastic or semi-stochastic (randomized), dynamic (changing), or intractable (too complex to deal with).\n",
    "\n",
    "Inductive programming is a programming paradigm which addresses this problem by _learning_ programs from incomplete information such as input -> output examples. The learnt programs could be logical, functional, or procedural. The drawback is that it can be difficult to understand how the learnt programs actually work."
   ]
  },
  {
   "cell_type": "markdown",
   "metadata": {
    "slideshow": {
     "slide_type": "slide"
    }
   },
   "source": [
    "## A Problem For Inductive Programming: Self-driving Cars\n",
    "\n",
    "Enabling a car to drive itself is a great example of a problem where we would need to use inductive programming / machine learning. Think of how many scenarios there are which the code would need to take into consideration:"
   ]
  },
  {
   "cell_type": "markdown",
   "metadata": {
    "slideshow": {
     "slide_type": "fragment"
    }
   },
   "source": [
    "* Shift gears up or down\n",
    "* Slow down around corners\n",
    "* Observe the speed limit and don't exceed it\n",
    "* Observe and stay between the lines\n",
    "* Don't cross certain type of lines\n",
    "* Indicate when turning or changing lanes\n",
    "* Maintain a safe following distance\n",
    "* Break when an obstruction is in the road\n",
    "* Try to avoid any form of collision\n",
    "* Move over for police or ambulances, etc."
   ]
  },
  {
   "cell_type": "markdown",
   "metadata": {
    "slideshow": {
     "slide_type": "subslide"
    }
   },
   "source": [
    "### Challenge\n",
    "\n",
    "The number of possible scenarios is massive, far too many for you to write into code. Furthermore the \"rules\" of the road cannot be followed blindly and often require some \"human\" intuition ... is it okay to cross a solid line is an ambulance is trying to pass?\n",
    "\n",
    "This is a problem which is both intractable and \"fuzzy\"."
   ]
  },
  {
   "cell_type": "markdown",
   "metadata": {
    "slideshow": {
     "slide_type": "subslide"
    }
   },
   "source": [
    "### Solution\n",
    "\n",
    "We can use machine learning algorithms to _learn_ the code required to make a car drive itself. This is done by allowing the car to drive randomly at first and then penalizing it for getting things wrong, and rewarding it for getting things right. "
   ]
  },
  {
   "cell_type": "markdown",
   "metadata": {
    "slideshow": {
     "slide_type": "subslide"
    }
   },
   "source": [
    "![title](car3.png)"
   ]
  },
  {
   "cell_type": "markdown",
   "metadata": {
    "slideshow": {
     "slide_type": "subslide"
    }
   },
   "source": [
    "![title](car4.png)"
   ]
  },
  {
   "cell_type": "markdown",
   "metadata": {
    "slideshow": {
     "slide_type": "slide"
    }
   },
   "source": [
    "## So what is Machine Learning?\n",
    "\n",
    "Machine Learning can be used to do inductive programming (learning programs from incomplete information). Machine Learning is a subfield of Computer Science which deals with algorithms that are capable of automatically learning from data. \n",
    "\n",
    "Generally speaking there are three forms of machine learning:\n",
    "\n",
    "1. Unsupervised learning algorithms\n",
    "2. Supervised learning algorithms, and\n",
    "3. Reinforcement learning algorithms\n",
    "\n",
    "As a Physics graduate you can view Machine Learning as a fantastic suite of computational tools for understanding and processing complex datasets."
   ]
  },
  {
   "cell_type": "markdown",
   "metadata": {
    "slideshow": {
     "slide_type": "slide"
    }
   },
   "source": [
    "## A Shotgun Tour of Machine Learning Algorithms on MNIST"
   ]
  },
  {
   "cell_type": "code",
   "execution_count": 1,
   "metadata": {
    "collapsed": true,
    "slideshow": {
     "slide_type": "skip"
    }
   },
   "outputs": [],
   "source": [
    "from itertools import chain, combinations\n",
    "from contextlib import contextmanager\n",
    "import sys\n",
    "import os\n",
    "\n",
    "\n",
    "@contextmanager\n",
    "def suppress_all():\n",
    "    with open(os.devnull, \"w\") as devnull:\n",
    "        # Redirect stdout to null\n",
    "        old_stdout = sys.stdout\n",
    "        sys.stdout = devnull\n",
    "\n",
    "        # Redirect stderr to null\n",
    "        old_stderr = sys.stderr\n",
    "        sys.stderr = devnull\n",
    "\n",
    "        # Redirect stdin to null\n",
    "        old_stdin = sys.stdin\n",
    "        sys.stdin = devnull\n",
    "\n",
    "        try:\n",
    "            yield\n",
    "        finally:\n",
    "            sys.stdout = old_stdout\n",
    "            sys.stderr = old_stderr\n",
    "            sys.stdin = old_stdin"
   ]
  },
  {
   "cell_type": "markdown",
   "metadata": {
    "slideshow": {
     "slide_type": "slide"
    }
   },
   "source": [
    "## Load A Test Dataset"
   ]
  },
  {
   "cell_type": "code",
   "execution_count": 2,
   "metadata": {
    "slideshow": {
     "slide_type": "subslide"
    }
   },
   "outputs": [],
   "source": [
    "with suppress_all():\n",
    "    %matplotlib inline\n",
    "    import matplotlib.pyplot as plt\n",
    "    from sklearn import *\n",
    "    import numpy as np\n",
    "    from sklearn import datasets\n",
    "    import pydotplus \n",
    "    from IPython.display import Image \n",
    "    from sklearn.utils import shuffle\n",
    "    import numpy.random as rng\n",
    "    from sklearn.metrics import classification_report\n",
    "    \n",
    "    digits = datasets.load_digits()\n",
    "    n = digits.data.shape[0]\n",
    "        \n",
    "    prediction = digits.data[0:15]\n",
    "    actual_images = digits.images[0:15]\n",
    "    \n",
    "    valid_patterns = digits.data[15:515]\n",
    "    valid_responses = digits.target[15:515]\n",
    "\n",
    "    patterns = digits.data[515:n]\n",
    "    responses = digits.target[515:n]"
   ]
  },
  {
   "cell_type": "markdown",
   "metadata": {
    "slideshow": {
     "slide_type": "slide"
    }
   },
   "source": [
    "## k-Nearest Neighbours"
   ]
  },
  {
   "cell_type": "markdown",
   "metadata": {
    "slideshow": {
     "slide_type": "fragment"
    }
   },
   "source": [
    "The K-Means Clustering algorithm is a centroid-based partitional clustering algorithm which works using the mean-shift heuristic. The K-means clustering algorithm consists of three steps (Initialization, Assignment, and Update). These steps are repeated until either the clustering has converged or the number of iterations has been exceeded.\n",
    "\n",
    "1. Initialization - A set of $k$ centroids are randomly initialized in the search space. These centroids must be in the same order of magnitude as the data patterns.\n",
    "\n",
    "2. Assignment - Once the centroids have been randomly initialized in the space, we iterate through each pattern in the data set and assign it to the closest centroid.\n",
    "\n",
    "3. Update - Once the patterns have been assigned to their centroids, the mean-shift heuristic is applied. This heuristic replaces each value in each centroid with the mean of that value over the patterns which have been assigned to it."
   ]
  },
  {
   "cell_type": "markdown",
   "metadata": {
    "slideshow": {
     "slide_type": "subslide"
    }
   },
   "source": [
    "![knn algorithm](knn1.png)"
   ]
  },
  {
   "cell_type": "markdown",
   "metadata": {
    "slideshow": {
     "slide_type": "subslide"
    }
   },
   "source": [
    "![knn algorithm](knn2.png)"
   ]
  },
  {
   "cell_type": "markdown",
   "metadata": {
    "slideshow": {
     "slide_type": "subslide"
    }
   },
   "source": [
    "![knn algorithm](knn3.png)"
   ]
  },
  {
   "cell_type": "code",
   "execution_count": 3,
   "metadata": {
    "slideshow": {
     "slide_type": "subslide"
    }
   },
   "outputs": [
    {
     "name": "stdout",
     "output_type": "stream",
     "text": [
      "Accuracy on validation set: 95.2%\n"
     ]
    }
   ],
   "source": [
    "with suppress_all():\n",
    "    my_knn = neighbors.KNeighborsClassifier()\n",
    "    my_knn.fit(patterns, responses)\n",
    "\n",
    "predicted_responses = my_knn.predict(valid_patterns)\n",
    "accuracy = metrics.accuracy_score(valid_responses, predicted_responses) * 100\n",
    "print(\"Accuracy on validation set:\", str(accuracy) + '%')"
   ]
  },
  {
   "cell_type": "code",
   "execution_count": 4,
   "metadata": {
    "slideshow": {
     "slide_type": "subslide"
    }
   },
   "outputs": [
    {
     "name": "stdout",
     "output_type": "stream",
     "text": [
      "MODEL PREDICTIONS [4 3 1 2 6 1]\n"
     ]
    },
    {
     "data": {
      "image/png": "[encoded data removed]",
      "text/plain": [
       "<matplotlib.figure.Figure at 0x7f3c1beb7898>"
      ]
     },
     "metadata": {},
     "output_type": "display_data"
    }
   ],
   "source": [
    "ixs = rng.choice(list(range(15)), 6, replace=False)\n",
    "print(\"MODEL PREDICTIONS\", my_knn.predict(prediction[ixs]))\n",
    "\n",
    "fig = plt.figure(figsize=(16, 16))\n",
    "for i in range(6):\n",
    "    ax1 = fig.add_subplot(1, 6, i + 1)\n",
    "    ax1.imshow(actual_images[ixs[i]])"
   ]
  },
  {
   "cell_type": "markdown",
   "metadata": {
    "slideshow": {
     "slide_type": "slide"
    }
   },
   "source": [
    "## Support Vector Machine"
   ]
  },
  {
   "cell_type": "markdown",
   "metadata": {
    "slideshow": {
     "slide_type": "fragment"
    }
   },
   "source": [
    "Support Vector Machines are able to classify nonlinear data using something called 'The Kernel Trick'. This technique works by projecting your original data which exists in an $n$ dimensional space into an $n+1$ dimensional space using a measure of distance or similarity called a kernel. The algorithm then searches for the optimal hyperplane in the $n+1$ dimensional space which best classifies the data.\n",
    "\n",
    "![KernelTricl](svm.png)"
   ]
  },
  {
   "cell_type": "code",
   "execution_count": 5,
   "metadata": {
    "slideshow": {
     "slide_type": "subslide"
    }
   },
   "outputs": [
    {
     "name": "stdout",
     "output_type": "stream",
     "text": [
      "Accuracy on validation set: 42.2%\n"
     ]
    }
   ],
   "source": [
    "with suppress_all():\n",
    "    my_svc = svm.SVC()\n",
    "    my_svc.fit(patterns, responses) \n",
    "    \n",
    "predicted_responses = my_svc.predict(valid_patterns)\n",
    "accuracy = metrics.accuracy_score(valid_responses, predicted_responses) * 100\n",
    "print(\"Accuracy on validation set:\", str(accuracy) + '%')"
   ]
  },
  {
   "cell_type": "code",
   "execution_count": 6,
   "metadata": {
    "slideshow": {
     "slide_type": "subslide"
    }
   },
   "outputs": [
    {
     "name": "stdout",
     "output_type": "stream",
     "text": [
      "MODEL PREDICTIONS [5 0 5 3 5 5]\n"
     ]
    },
    {
     "data": {
      "image/png": "[encoded data removed]",
      "text/plain": [
       "<matplotlib.figure.Figure at 0x7f3c1c04e630>"
      ]
     },
     "metadata": {},
     "output_type": "display_data"
    }
   ],
   "source": [
    "ixs = rng.choice(list(range(15)), 6, replace=False)\n",
    "print(\"MODEL PREDICTIONS\", my_svc.predict(prediction[ixs]))\n",
    "\n",
    "fig = plt.figure(figsize=(16, 16))\n",
    "for i in range(6):\n",
    "    ax1 = fig.add_subplot(1, 6, i + 1)\n",
    "    ax1.imshow(actual_images[ixs[i]])"
   ]
  },
  {
   "cell_type": "markdown",
   "metadata": {
    "slideshow": {
     "slide_type": "slide"
    }
   },
   "source": [
    "## Decision Tree"
   ]
  },
  {
   "cell_type": "markdown",
   "metadata": {
    "slideshow": {
     "slide_type": "fragment"
    }
   },
   "source": [
    "A decision tree is just a data structure for decision making. It consists of nodes which represent conditions that direct the flow of logic either left or right. Terminal nodes (ones at the bottom of the tree) represent responses. Decision trees can be setup to do regression or classification. \n",
    "\n",
    "Numerous algorithms exist for learning an optimal decision tree from a given dataset of features and responses. These algorithms include ID3, C4.5, and C5.0. Generally speaking splits made at nodes up the tree are either attempting to optimize gini impurity, information gain, or reduce variance."
   ]
  },
  {
   "cell_type": "markdown",
   "metadata": {
    "slideshow": {
     "slide_type": "subslide"
    }
   },
   "source": [
    "![Decision Tree](tree.png)"
   ]
  },
  {
   "cell_type": "code",
   "execution_count": 7,
   "metadata": {
    "slideshow": {
     "slide_type": "subslide"
    }
   },
   "outputs": [
    {
     "name": "stdout",
     "output_type": "stream",
     "text": [
      "Accuracy on validation set: 78.2%\n"
     ]
    }
   ],
   "source": [
    "with suppress_all():\n",
    "    my_tree = tree.DecisionTreeClassifier()\n",
    "    my_tree.fit(patterns, responses)\n",
    "    \n",
    "predicted_responses = my_tree.predict(valid_patterns)\n",
    "accuracy = metrics.accuracy_score(valid_responses, predicted_responses) * 100\n",
    "print(\"Accuracy on validation set:\", str(accuracy) + '%')"
   ]
  },
  {
   "cell_type": "code",
   "execution_count": 8,
   "metadata": {
    "slideshow": {
     "slide_type": "subslide"
    }
   },
   "outputs": [
    {
     "name": "stdout",
     "output_type": "stream",
     "text": [
      "MODEL PREDICTIONS [8 0 8 1 0 9]\n"
     ]
    },
    {
     "data": {
      "image/png": "[encoded data removed]",
      "text/plain": [
       "<matplotlib.figure.Figure at 0x7f3c19d4bc50>"
      ]
     },
     "metadata": {},
     "output_type": "display_data"
    }
   ],
   "source": [
    "ixs = rng.choice(list(range(15)), 6, replace=False)\n",
    "print(\"MODEL PREDICTIONS\", my_tree.predict(prediction[ixs]))\n",
    "\n",
    "fig = plt.figure(figsize=(16, 16))\n",
    "for i in range(6):\n",
    "    ax1 = fig.add_subplot(1, 6, i + 1)\n",
    "    ax1.imshow(actual_images[ixs[i]])"
   ]
  },
  {
   "cell_type": "markdown",
   "metadata": {
    "slideshow": {
     "slide_type": "slide"
    }
   },
   "source": [
    "## Random Forest"
   ]
  },
  {
   "cell_type": "markdown",
   "metadata": {
    "slideshow": {
     "slide_type": "fragment"
    }
   },
   "source": [
    "Ensembling is an approach to Machine Learning wherein numerous models are trained often of different subsets of the data or different features entirely. These models are then aggregated together to produce a combined model which is, hopefully, better than any one of the underlying models. Ensembling is a great technique to reduce variance. Random forests are ensembles of decision trees. \n",
    "\n",
    "![](forest.png)"
   ]
  },
  {
   "cell_type": "code",
   "execution_count": 14,
   "metadata": {
    "slideshow": {
     "slide_type": "subslide"
    }
   },
   "outputs": [
    {
     "name": "stdout",
     "output_type": "stream",
     "text": [
      "Accuracy on validation set: 93.2%\n"
     ]
    }
   ],
   "source": [
    "with suppress_all():\n",
    "    my_forest = ensemble.RandomForestClassifier(n_estimators=100)\n",
    "    my_forest.fit(patterns, responses)\n",
    "    \n",
    "predicted_responses = my_forest.predict(valid_patterns)\n",
    "accuracy = metrics.accuracy_score(valid_responses, predicted_responses) * 100\n",
    "print(\"Accuracy on validation set:\", str(accuracy) + '%')"
   ]
  },
  {
   "cell_type": "code",
   "execution_count": 15,
   "metadata": {
    "slideshow": {
     "slide_type": "subslide"
    }
   },
   "outputs": [
    {
     "name": "stdout",
     "output_type": "stream",
     "text": [
      "MODEL PREDICTIONS [1 0 3 6 8 0]\n"
     ]
    },
    {
     "data": {
      "image/png": "[encoded data removed]",
      "text/plain": [
       "<matplotlib.figure.Figure at 0x7f3c1c0ca668>"
      ]
     },
     "metadata": {},
     "output_type": "display_data"
    }
   ],
   "source": [
    "ixs = rng.choice(list(range(15)), 6, replace=False)\n",
    "print(\"MODEL PREDICTIONS\", my_forest.predict(prediction[ixs]))\n",
    "\n",
    "fig = plt.figure(figsize=(16, 16))\n",
    "for i in range(6):\n",
    "    ax1 = fig.add_subplot(1, 6, i + 1)\n",
    "    ax1.imshow(actual_images[ixs[i]])"
   ]
  },
  {
   "cell_type": "markdown",
   "metadata": {
    "slideshow": {
     "slide_type": "slide"
    }
   },
   "source": [
    "## Deep Neural Network"
   ]
  },
  {
   "cell_type": "markdown",
   "metadata": {
    "slideshow": {
     "slide_type": "fragment"
    }
   },
   "source": [
    "Neural networks consist of layers of interconnected nodes. Individual nodes are called perceptrons and resemble a multiple linear regression. The difference between a multiple linear regression and a perceptron is that a perceptron feeds the signal generated by a multiple linear regression into an activation function which may or may not be non-linear. "
   ]
  },
  {
   "cell_type": "markdown",
   "metadata": {
    "slideshow": {
     "slide_type": "fragment"
    }
   },
   "source": [
    "In a multi layered perceptron (MLP) perceptrons are arranged into layers and layers are connected with other another. In the MLP there are three types of layers namely, the input layer, hidden layer(s), and the output layer. "
   ]
  },
  {
   "cell_type": "markdown",
   "metadata": {
    "slideshow": {
     "slide_type": "fragment"
    }
   },
   "source": [
    "The input layer receives input patterns and the output layer could contain a list of classifications or output signals to which those input patterns may map. Hidden layers adjust the weightings on those inputs until the error of the neural network is minimized. "
   ]
  },
  {
   "cell_type": "markdown",
   "metadata": {
    "slideshow": {
     "slide_type": "subslide"
    }
   },
   "source": [
    "![Deep Neural Network](dnn.png)"
   ]
  },
  {
   "cell_type": "code",
   "execution_count": 11,
   "metadata": {
    "slideshow": {
     "slide_type": "subslide"
    }
   },
   "outputs": [
    {
     "name": "stdout",
     "output_type": "stream",
     "text": [
      "Accuracy on validation set: 92.4%\n"
     ]
    }
   ],
   "source": [
    "layers = (100, 100, 100, 100, 100, 100, 100, 100, 100, 100)\n",
    "\n",
    "with suppress_all():\n",
    "    my_dnn = neural_network.MLPClassifier(early_stopping=True,\n",
    "                                         hidden_layer_sizes=layers)\n",
    "    my_dnn.fit(patterns, responses)\n",
    "\n",
    "predicted_responses = my_dnn.predict(valid_patterns)\n",
    "accuracy = metrics.accuracy_score(valid_responses, predicted_responses) * 100\n",
    "print(\"Accuracy on validation set:\", str(accuracy) + '%')"
   ]
  },
  {
   "cell_type": "code",
   "execution_count": 12,
   "metadata": {
    "slideshow": {
     "slide_type": "subslide"
    }
   },
   "outputs": [
    {
     "name": "stdout",
     "output_type": "stream",
     "text": [
      "MODEL PREDICTIONS [3 2 0 3 1 1]\n"
     ]
    },
    {
     "data": {
      "image/png": "[encoded data removed]",
      "text/plain": [
       "<matplotlib.figure.Figure at 0x7f3c19ad9b38>"
      ]
     },
     "metadata": {},
     "output_type": "display_data"
    }
   ],
   "source": [
    "ixs = rng.choice(list(range(15)), 6, replace=False)\n",
    "print(\"MODEL PREDICTIONS\", my_dnn.predict(prediction[ixs]))\n",
    "\n",
    "fig = plt.figure(figsize=(16, 16))\n",
    "for i in range(6):\n",
    "    ax1 = fig.add_subplot(1, 6, i + 1)\n",
    "    ax1.imshow(actual_images[ixs[i]])"
   ]
  },
  {
   "cell_type": "markdown",
   "metadata": {
    "slideshow": {
     "slide_type": "slide"
    }
   },
   "source": [
    "## NMRQL Research"
   ]
  },
  {
   "cell_type": "markdown",
   "metadata": {
    "slideshow": {
     "slide_type": "fragment"
    }
   },
   "source": [
    "NMRQL Research is a startup financial services provider operating out of Stellenbosch. Over the past three years we have been developing a fully autonomous, machine-learning driven hedge fund and are now about to launch a unit trust."
   ]
  },
  {
   "cell_type": "markdown",
   "metadata": {
    "slideshow": {
     "slide_type": "fragment"
    }
   },
   "source": [
    "We have numerous Regression Models, Decision Trees, Support Vector Machines, Neural Networks, Recurrent Neural Networks, and ensembles / stackers. Our Allocators use various optimization techniques including linear and quadratic programming, Particle Swarms, Genetic Algorithms, and Differential Evolution."
   ]
  },
  {
   "cell_type": "markdown",
   "metadata": {
    "slideshow": {
     "slide_type": "fragment"
    }
   },
   "source": [
    "The real power of our system comes from relative ease with which we can arrange the various Experts together to construct massive ensembles of models trained on different datasets, different amounts of historical data, or with different hyperparameters / underlying assumptions. This is where we have found the most success."
   ]
  },
  {
   "cell_type": "markdown",
   "metadata": {
    "slideshow": {
     "slide_type": "subslide"
    }
   },
   "source": [
    "### A Typical NMRQL Model \n",
    "\n",
    "This model includes 7 advanced Machine Learning algorithms. Three are different deep neural network architectures, three are nonlinear regression ensembles each containing 32 underlying models, and one staggered deep neural network ensemble which contains up to 3 deep neural networks. These 7 models are ensembles in two different ways to produce two uncorrelated forecasts for the top 50 stocks on the JSE. These two forecasts then flow into more numerous portfolio allocation algorithms which tell us how much of each stock to buy and sell.\n",
    "\n",
    "![A NMRQL Recipes Flow](recipes.png)"
   ]
  },
  {
   "cell_type": "markdown",
   "metadata": {
    "slideshow": {
     "slide_type": "slide"
    }
   },
   "source": [
    "## Contact Information\n",
    "\n",
    "We offer various **internships** and we are currently looking to hire young Machine Learning engineers. We also happen to have a particular fondness for Physics Students :-)\n",
    "\n",
    "\n",
    "\n",
    "\n",
    "### Website: [www.nmrql.com](www.nmrql.com)\n",
    "### Email: stuart@nmrql.com\n",
    "### Contact: 079 891 9476"
   ]
  },
  {
   "cell_type": "code",
   "execution_count": null,
   "metadata": {
    "collapsed": true
   },
   "outputs": [],
   "source": []
  }
 ],
 "metadata": {
  "celltoolbar": "Slideshow",
  "kernelspec": {
   "display_name": "Python 3",
   "language": "python",
   "name": "python3"
  },
  "language_info": {
   "codemirror_mode": {
    "name": "ipython",
    "version": 3
   },
   "file_extension": ".py",
   "mimetype": "text/x-python",
   "name": "python",
   "nbconvert_exporter": "python",
   "pygments_lexer": "ipython3",
   "version": "3.5.2"
  }
 },
 "nbformat": 4,
 "nbformat_minor": 2
}
